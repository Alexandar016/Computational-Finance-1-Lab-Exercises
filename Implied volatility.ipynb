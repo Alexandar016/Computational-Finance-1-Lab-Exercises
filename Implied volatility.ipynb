{
 "cells": [
  {
   "cell_type": "markdown",
   "metadata": {
    "id": "-VPnkivbfOV7"
   },
   "source": [
    "# Bergische Universität Wuppertal #\n",
    "\n",
    "**Fakultät Mathematik und Naturwissenschaften** \n",
    "\n",
    "**Angewandte Mathematik/Numerische Analysis**\n",
    "\n",
    "*Dr. L. Teng*\n",
    "\n",
    "*L. Kapllani, M.Sc.* \n",
    "\n",
    "*Summerterm 2021*\n"
   ]
  },
  {
   "cell_type": "markdown",
   "metadata": {
    "id": "OC2m8sMOfOV9"
   },
   "source": [
    "# Computational Finance I\n",
    "**Lab-Exercise No. 2**\n"
   ]
  },
  {
   "cell_type": "markdown",
   "metadata": {
    "id": "svaFX0aEfOV9"
   },
   "source": [
    "## Write your data"
   ]
  },
  {
   "cell_type": "code",
   "execution_count": 1,
   "metadata": {
    "colab": {
     "base_uri": "https://localhost:8080/"
    },
    "id": "ZA9JrH-4fOV9",
    "outputId": "eb3c73c8-4b31-4ffc-f6f5-2a9ca6f8f69b"
   },
   "outputs": [
    {
     "name": "stdout",
     "output_type": "stream",
     "text": [
      "First Name: Aleksandar\n",
      "Sure Name: Mitic\n",
      "Matriculation number: 2035177\n",
      "E-mail: aleksandar.mitic@uni-wuppertal.de\n",
      "Degree Type: Master\n",
      "Degree Name: Master of science\n"
     ]
    }
   ],
   "source": [
    "print(\"First Name: Aleksandar\")\n",
    "print(\"Sure Name: Mitic\")\n",
    "print(\"Matriculation number: 2035177\")\n",
    "print(\"E-mail: aleksandar.mitic@uni-wuppertal.de\")\n",
    "print(\"Degree Type: Master\") # Bachelor or Master\n",
    "print(\"Degree Name: Master of science\") # E.g. Master of Science in Computer Simulation in Science"
   ]
  },
  {
   "cell_type": "markdown",
   "metadata": {
    "id": "hPuGnzcQfOV-"
   },
   "source": [
    "# For the programming task write the corresponding Python codes that are asked in each section below."
   ]
  },
  {
   "cell_type": "markdown",
   "metadata": {
    "id": "kKmZhcxRfOV-"
   },
   "source": [
    "# P2: Implied volatility\n",
    "In the lecture we mentioned that the volatility of stock can not be directly observed.\n",
    "Given option prices observed in the market, the volatility can be computed using Black-Scholes formula.\n",
    "We will use the Newton-Raphson method to calculate the implied volatility."
   ]
  },
  {
   "cell_type": "markdown",
   "metadata": {
    "id": "Nk5ayG0MfOV-"
   },
   "source": [
    "## Import all necessary modules"
   ]
  },
  {
   "cell_type": "code",
   "execution_count": 1,
   "metadata": {
    "id": "cIbY3yjjfOV_"
   },
   "outputs": [],
   "source": [
    "from math import *\n",
    "import numpy as np\n",
    "import matplotlib.pyplot as plt\n",
    "import scipy.optimize as opt"
   ]
  },
  {
   "cell_type": "markdown",
   "metadata": {
    "id": "OIkn13gTfOV_"
   },
   "source": [
    "# Start coding\n",
    "**Note:** \n",
    "* Add code where you find the comment \"# Add code here\"\n",
    "* Get the same output as it is presented in the Markdown text **Expected Output:**"
   ]
  },
  {
   "cell_type": "markdown",
   "metadata": {
    "id": "74maGLwIfOV_"
   },
   "source": [
    "## Define a function to calculate implied volatiliry using Newton-Raphson method"
   ]
  },
  {
   "cell_type": "code",
   "execution_count": 2,
   "metadata": {
    "id": "q2boUqDXfOV_"
   },
   "outputs": [],
   "source": [
    "def impvol(S, r, T, K, C_market, sigma_0, tol):\n",
    "\n",
    "    \"\"\"\n",
    "    Function that calculates implied volatility using Newton-Raphson method\n",
    "    \n",
    "        sigma(k+1) = sigma(k) - (C(sigma(k))- C_market)/k, \n",
    "    \n",
    "    where sigma0 is an initial guess of volatility\n",
    "\n",
    "    Input: \n",
    "          S       -> Stock price\n",
    "          r       -> Interest rate\n",
    "          T       -> Maturity\n",
    "          K       -> Strike price\n",
    "          C_market-> European option value (given)\n",
    "          sigma_0 -> initial guess of implied volatility\n",
    "          tol     -> tolerance for NR method\n",
    "\n",
    "    Output:\n",
    "         im_sigma -> Implied volatility\n",
    "    \"\"\"\n",
    "    # Add code here\n",
    "    k1= True\n",
    "    while k1:\n",
    "        # Formula for d1\n",
    "        d1 = ( log(S/K) + (r+sigma_0*sigma_0/2.0)*T ) / ( sigma_0*sqrt(T) )\n",
    "        # Using the relation between d1 and d2\n",
    "        d2 = d1 - sigma_0*sqrt(T)\n",
    "        # BC-Formula for Call option\n",
    "        C = S*phi(d1) - K*np.exp(-r*T)*phi(d2)\n",
    "        delta_x = S  * sqrt(T)  * normal_distr_func(d1)\n",
    "        sigma_x = sigma_0 - (C - C_market)/delta_x\n",
    "        if abs(sigma_x - sigma_0) < tol or abs(sigma_0 - C_market) < tol:\n",
    "            break\n",
    "            k1= False\n",
    "        sigma_0 = sigma_x\n",
    "    return sigma_x\n",
    "\n",
    "def normal_distr_func(x):\n",
    "    # probability density function for normal distribution\n",
    "    return np.exp(-.5*x**2) / (sqrt(2*np.pi))\n",
    "def phi(x):\n",
    "    # cumulative distribution function\n",
    "    return (1 + erf(x/sqrt(2))) / 2"
   ]
  },
  {
   "cell_type": "markdown",
   "metadata": {
    "id": "BH-hXCFDfOWA"
   },
   "source": [
    "Let $S=129,\\,r=0,\\,T=30/360.$ Test your code using the given market prices of European calls in the following table.\n",
    "![title](table1.png)\n",
    "For the Newton-Raphson method, use a tolerance of $10^{-10}$."
   ]
  },
  {
   "cell_type": "markdown",
   "metadata": {
    "id": "5G0IQ2U6fOWA"
   },
   "source": [
    "## Input parameters"
   ]
  },
  {
   "cell_type": "code",
   "execution_count": 3,
   "metadata": {
    "id": "ai9NBYHFfOWA"
   },
   "outputs": [],
   "source": [
    "# Input parameters\n",
    "sigma_0 = 0.1\n",
    "K = [*range(124, 137, 1)]\n",
    "S0 = 129\n",
    "r = 0\n",
    "T = 30/360\n",
    "C_market = [6.03, 5.23, 4.49, 3.79, 3.14, 2.55, 2.02, 1.59, 1.26, 1.00, 0.81, 0.67, 0.55]\n",
    "tol = 1e-10"
   ]
  },
  {
   "cell_type": "markdown",
   "metadata": {
    "id": "AeM7FQIFfOWA"
   },
   "source": [
    "## Test the code based on above data: plot the graph, what do you observe?"
   ]
  },
  {
   "cell_type": "code",
   "execution_count": 4,
   "metadata": {
    "colab": {
     "base_uri": "https://localhost:8080/",
     "height": 312
    },
    "id": "Ccad9Q08fOWA",
    "outputId": "e4055de6-e19a-4387-8425-231b51fb7dfd"
   },
   "outputs": [
    {
     "name": "stdout",
     "output_type": "stream",
     "text": [
      "K| [124, 125, 126, 127, 128, 129, 130, 131, 132, 133, 134, 135, 136]\n",
      "C| [6.03, 5.23, 4.49, 3.79, 3.14, 2.55, 2.02, 1.59, 1.26, 1.0, 0.81, 0.67, 0.55]\n"
     ]
    },
    {
     "data": {
      "image/png": "[encoded data removed]",
      "text/plain": [
       "<Figure size 432x288 with 1 Axes>"
      ]
     },
     "metadata": {
      "needs_background": "light"
     },
     "output_type": "display_data"
    }
   ],
   "source": [
    "# Implement impvol function to calculate the implied volatility for each strike price and option price\n",
    "# Add code here\n",
    "A_x = np.zeros(len(C_market))\n",
    "for i in range(0, len(C_market)):\n",
    "    A_x[i] = impvol(S0, r, T, K[i], C_market[i], sigma_0, tol)\n",
    "plt.plot(K, A_x)\n",
    "plt.title('Implied volatility for different strike price values')\n",
    "plt.ylabel('Implied volatility')\n",
    "plt.xlabel('Strike price')\n",
    "print('K|' , K)\n",
    "print('C|' , C_market)"
   ]
  },
  {
   "cell_type": "markdown",
   "metadata": {
    "id": "IB1I2OF2fOWA"
   },
   "source": [
    "**Expected Output:**\n",
    "![title](figure1.png)"
   ]
  },
  {
   "cell_type": "markdown",
   "metadata": {
    "id": "5KdhISajfOWB"
   },
   "source": [
    "### Will the implied volatilities using the corresponding market prices of European puts be same?"
   ]
  },
  {
   "cell_type": "code",
   "execution_count": 5,
   "metadata": {
    "colab": {
     "base_uri": "https://localhost:8080/"
    },
    "id": "_JBQ97TYfOWB",
    "outputId": "5d889bc3-2eaf-401b-f932-e7166200b61d"
   },
   "outputs": [
    {
     "name": "stdout",
     "output_type": "stream",
     "text": [
      "No, they wouldnt be the same because in Black-Scholes formula for the call and put is different therefore the option values for call and put will be different.\n"
     ]
    }
   ],
   "source": [
    "# Answer with a print statement\n",
    "# Add code here\n",
    "print('No, they wouldnt be the same because in Black-Scholes formula for the call and put is different therefore the option values for call and put will be different.')"
   ]
  },
  {
   "cell_type": "markdown",
   "metadata": {
    "id": "AtuGfPh_fOWB"
   },
   "source": [
    "In the lecture we have seen that the Black-Scholes model can be extended by including a time-dependent volatility function. Given the volatility function\n",
    "$$ \\sigma(t) = \\sigma_0 \\exp(−at) + b(1−\\exp(−at)),$$ \n",
    "ﬁnd the optimal value of parameters $\\sigma_0, a, b$ by ﬁtting the prices of the extended BS-formula to the market prices given in the following table, where $S = 129, r = 0, K = 129$. For the ﬁtting you can use any optimization method, e.g., least squares.\n",
    "![title](table2.png)\n",
    "\n",
    "Plot a graph of the volatility function using the obtained optimal parameter values and compare it to the corresponding implied volatility for diﬀerent maturities."
   ]
  },
  {
   "cell_type": "markdown",
   "metadata": {
    "id": "GOhk_PQRfOWB"
   },
   "source": [
    "## New input"
   ]
  },
  {
   "cell_type": "code",
   "execution_count": 6,
   "metadata": {
    "id": "ZjpFY-7nfOWB"
   },
   "outputs": [],
   "source": [
    "# New input\n",
    "Time = [1/12, 1/4, 1/2, 1]\n",
    "Value = [2.55, 4.49, 6.70, 10.13]\n",
    "Price = 129\n",
    "Strike = 129\n",
    "Rate = 0\n",
    "Sigma_0 = 0.2\n",
    "Tol = 1e-10"
   ]
  },
  {
   "cell_type": "markdown",
   "metadata": {
    "id": "yyRA_pk4fOWC"
   },
   "source": [
    "## Apply NR for the new input"
   ]
  },
  {
   "cell_type": "code",
   "execution_count": 7,
   "metadata": {
    "id": "O2BhvTK2fOWC"
   },
   "outputs": [
    {
     "name": "stdout",
     "output_type": "stream",
     "text": [
      "T| [0.08333333333333333, 0.25, 0.5, 1]\n",
      "C| [2.55, 4.49, 6.7, 10.13]\n"
     ]
    }
   ],
   "source": [
    "# Add code here\n",
    "B_x = np.zeros(len(Time))\n",
    "for i in range(0, len(Time)):\n",
    "    B_x[i] = impvol(Price, Rate, Time[i], Strike, Value[i], Sigma_0, Tol)\n",
    "print('T|' , Time)\n",
    "print('C|' , Value)"
   ]
  },
  {
   "cell_type": "markdown",
   "metadata": {
    "id": "AwmUVVHHfOWC"
   },
   "source": [
    "## Define a function for our given time dependent volatility "
   ]
  },
  {
   "cell_type": "code",
   "execution_count": 10,
   "metadata": {
    "id": "XHuKSoj3fOWC"
   },
   "outputs": [],
   "source": [
    "def func(t, sigma_0, a, b):\n",
    "    \"\"\"\n",
    "    Function that creates the time dependent volatility function\n",
    "        sigma(t) = sigma_0 * exp(−a*t) + b*(1−exp(−a*t))\n",
    "    Input: \n",
    "          t       -> time\n",
    "          sigma_0 -> Parameter\n",
    "          a       -> Parameter\n",
    "          b       -> Parameter\n",
    "          \n",
    "    Output:\n",
    "         sigma(t) -> Time dependent volatility\n",
    "    \"\"\"\n",
    "    # Add code here\n",
    "    sigma_t = sigma_0 * np.exp(-a*t) + b*(1-np.exp(-a*t)) \n",
    "    return sigma_t"
   ]
  },
  {
   "cell_type": "markdown",
   "metadata": {
    "id": "NlS8zD-dfOWC"
   },
   "source": [
    "## Find optimal values using least squares method\n",
    "**Hint:`curve_fit()` function form scipy optimization library can be used**"
   ]
  },
  {
   "cell_type": "code",
   "execution_count": 11,
   "metadata": {
    "colab": {
     "base_uri": "https://localhost:8080/"
    },
    "id": "5frZ1PPEfOWC",
    "outputId": "aa057bee-9d28-4d54-e70e-515b493555ba"
   },
   "outputs": [
    {
     "name": "stdout",
     "output_type": "stream",
     "text": [
      "sigma0 = 0.168393 a = 0.140049 b = 0.389585\n"
     ]
    }
   ],
   "source": [
    "# Add code here\n",
    "p_opt, p_cov = opt.curve_fit(func, Time, B_x)\n",
    "print('sigma0 = %.6f a = %.6f b = %.6f' % tuple (p_opt))"
   ]
  },
  {
   "cell_type": "markdown",
   "metadata": {
    "id": "gHOhOCFIfOWC"
   },
   "source": [
    "**Expected Output:**\n",
    "\n",
    "`sigma0 = 0.168393`\n",
    " `a = 0.140051`\n",
    " `b = 0.389581`\n",
    " "
   ]
  },
  {
   "cell_type": "markdown",
   "metadata": {
    "id": "JkexLPOGfOWD"
   },
   "source": [
    "## Plotting our estimated volatility function"
   ]
  },
  {
   "cell_type": "code",
   "execution_count": 16,
   "metadata": {
    "colab": {
     "base_uri": "https://localhost:8080/",
     "height": 312
    },
    "id": "n77XnHmUfOWD",
    "outputId": "464595a3-e106-4e9e-92bd-8bfe228fad0f"
   },
   "outputs": [
    {
     "data": {
      "text/plain": [
       "Text(0, 0.5, 'Volatility')"
      ]
     },
     "execution_count": 16,
     "metadata": {},
     "output_type": "execute_result"
    },
    {
     "data": {
      "image/png": "[encoded data removed]",
      "text/plain": [
       "<Figure size 432x288 with 1 Axes>"
      ]
     },
     "metadata": {
      "needs_background": "light"
     },
     "output_type": "display_data"
    }
   ],
   "source": [
    "# Add your code here\n",
    "sigma_time = np.zeros(len(Time))\n",
    "for i in range(0, len(Time)):\n",
    "    # Formula for our volatility function using the obtained optimal parameter values, where sigma_0 = popt[0], a = popt[1], b = popt[2]\n",
    "    sigma_time[i] = p_opt[0] * np.exp(-p_opt[1] * Time[i]) + p_opt[2]*(1-np.exp(-p_opt[1]*Time[i]))\n",
    "\n",
    "# plot the data points and our estimated volatility function\n",
    "plt.plot(Time, sigma_time, label='Fitted function')\n",
    "plt.plot(Time, B_x , 'ro', label='Implied Volatility')\n",
    "plt.legend()\n",
    "plt.title('Data and Fitted Curve')\n",
    "plt.xlabel('Time')\n",
    "plt.ylabel('Volatility')"
   ]
  },
  {
   "cell_type": "markdown",
   "metadata": {
    "id": "YKBmo5HbfOWD"
   },
   "source": [
    "**Expected Output:**\n",
    "![title](figure2.png)"
   ]
  },
  {
   "cell_type": "markdown",
   "metadata": {
    "id": "tNLjq2CwfOWD"
   },
   "source": [
    "**Return the solutions of the programming task $\\href{https://moodle.uni-wuppertal.de/mod/assign/view.php?id=774696}{{here}}$ until Wednesday, June 9. The assignment can be done in groups of 1-2 persons. The solution should be presented within the following 2 weeks via an online arranged ZOOM meeting with M.Sc. Lorenc Kapllani.**"
   ]
  },
  {
   "cell_type": "code",
   "execution_count": 57,
   "metadata": {
    "id": "isychak6fOWD"
   },
   "outputs": [],
   "source": [
    "# feel free to use this cell for additional tests"
   ]
  },
  {
   "cell_type": "code",
   "execution_count": 270,
   "metadata": {
    "id": "yDOzeMgefOWD"
   },
   "outputs": [],
   "source": [
    "# feel free to use this cell for additional tests"
   ]
  },
  {
   "cell_type": "code",
   "execution_count": 271,
   "metadata": {
    "id": "X1Z5iU8QfOWD"
   },
   "outputs": [],
   "source": [
    "# feel free to use this cell for additional tests"
   ]
  },
  {
   "cell_type": "code",
   "execution_count": 271,
   "metadata": {
    "id": "OG24aYlpfOWE"
   },
   "outputs": [],
   "source": [
    "# feel free to use this cell for additional tests"
   ]
  },
  {
   "cell_type": "code",
   "execution_count": null,
   "metadata": {
    "colab": {
     "base_uri": "https://localhost:8080/"
    },
    "id": "Kdn6tTgbfOWE",
    "outputId": "153756cc-691e-4ae6-c4a1-5019d9203943"
   },
   "outputs": [],
   "source": [
    "# feel free to use this cell for additional tests"
   ]
  }
 ],
 "metadata": {
  "colab": {
   "collapsed_sections": [],
   "name": "LabExercise2-students.ipynb",
   "provenance": []
  },
  "kernelspec": {
   "display_name": "Python 3",
   "language": "python",
   "name": "python3"
  },
  "language_info": {
   "codemirror_mode": {
    "name": "ipython",
    "version": 3
   },
   "file_extension": ".py",
   "mimetype": "text/x-python",
   "name": "python",
   "nbconvert_exporter": "python",
   "pygments_lexer": "ipython3",
   "version": "3.8.3"
  }
 },
 "nbformat": 4,
 "nbformat_minor": 1
}
