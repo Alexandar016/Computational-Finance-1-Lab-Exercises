{
 "cells": [
  {
   "cell_type": "markdown",
   "metadata": {},
   "source": [
    "# Bergische Universität Wuppertal #\n",
    "\n",
    "**Fakultät Mathematik und Naturwissenschaften** \n",
    "\n",
    "**Angewandte Mathematik/Numerische Analysis**\n",
    "\n",
    "*Dr. L. Teng*\n",
    "\n",
    "*L. Kapllani, M.Sc.* \n",
    "\n",
    "*Summerterm 2021*\n"
   ]
  },
  {
   "cell_type": "markdown",
   "metadata": {},
   "source": [
    "# Computational Finance I\n",
    "**Lab-Exercise No. 1**\n"
   ]
  },
  {
   "cell_type": "markdown",
   "metadata": {},
   "source": [
    "# P1: Trinomial Tree\n",
    "In the lecture we mentioned that a binomial model can be generalized to a trinomial model. In a trinomial model we need to consider three stock price developments: in one period the price increases by a factor of $u$ with the probability $p_u$, descreases by a factor of $d$ with the probability $p_d$, or remains unchanged with the probability $1−p_u −p_d$. The trinomial model can be built in a similar way to the binomial model, e.g., by matching the expectation and the variance and using $ud = 1$ we obtain:\n",
    "    $$ u = e^{\\sigma\\sqrt{2\\Delta t}}, \\quad d = e^{-\\sigma\\sqrt{2\\Delta t}}, \\quad p_d = \\left( \\frac{ e^{\\sigma\\sqrt{\\frac{\\Delta t}{2}}} - e^{r\\frac{\\Delta t}{2}} }{e^{\\sigma\\sqrt{\\frac{\\Delta t}{2}}} - e^{-\\sigma\\sqrt{\\frac{\\Delta t}{2}}}} \\right)^2, \\quad \\quad p_u = \\left( \\frac{ e^{r\\frac{\\Delta t}{2}} - e^{-\\sigma\\sqrt{\\frac{\\Delta t}{2}}}}{e^{\\sigma\\sqrt{\\frac{\\Delta t}{2}}} - e^{-\\sigma\\sqrt{\\frac{\\Delta t}{2}}}} \\right)^2.$$\n",
    "\n",
    "For the programming task write the corresponding Python functions that are asked in each section below."
   ]
  },
  {
   "cell_type": "markdown",
   "metadata": {},
   "source": [
    "**Return the solutions of the programming task $\\href{https://moodle.uni-wuppertal.de/mod/assign/view.php?id=762093}{{here}}$ until Friday, May 21. The assignment can be done in groups of 1-2 persons. The solution should be presented within the following 2 weeks via an online arranged ZOOM meeting with M.Sc. Lorenc Kapllani.**"
   ]
  },
  {
   "cell_type": "markdown",
   "metadata": {},
   "source": [
    "## Write your data"
   ]
  },
  {
   "cell_type": "code",
   "execution_count": 2,
   "metadata": {},
   "outputs": [
    {
     "name": "stdout",
     "output_type": "stream",
     "text": [
      "First Name: Aleksandar\n",
      "Sure Name: Mitic\n",
      "Matriculation number: 2035177\n",
      "E-mail: aleksandar.mitic@uni-wuppertal.de\n",
      "Degree Type: Master \n",
      "Degree Name: Master of science\n"
     ]
    }
   ],
   "source": [
    "print(\"First Name: Aleksandar\")\n",
    "print(\"Sure Name: Mitic\")\n",
    "print(\"Matriculation number: 2035177\")\n",
    "print(\"E-mail: aleksandar.mitic@uni-wuppertal.de\")\n",
    "print(\"Degree Type: Master \")\n",
    "print(\"Degree Name: Master of science\")"
   ]
  },
  {
   "cell_type": "markdown",
   "metadata": {},
   "source": [
    "## Import all necessary modules"
   ]
  },
  {
   "cell_type": "code",
   "execution_count": 3,
   "metadata": {},
   "outputs": [],
   "source": [
    "import math\n",
    "import numpy as np"
   ]
  },
  {
   "cell_type": "markdown",
   "metadata": {},
   "source": [
    "## Test Parameters"
   ]
  },
  {
   "cell_type": "code",
   "execution_count": 4,
   "metadata": {},
   "outputs": [],
   "source": [
    "# Input parameters\n",
    "sigma = 0.2\n",
    "K = 100\n",
    "S0 = 100\n",
    "N = 4\n",
    "r = 0.05\n",
    "T = 1\n",
    "d_t = T / N"
   ]
  },
  {
   "cell_type": "markdown",
   "metadata": {},
   "source": [
    "# Start coding\n",
    "**Note:** \n",
    "* Add code where you find the comment \"# Add code here\"\n",
    "* Get the same output as it is presented in the Markdown text **Expected Output:**"
   ]
  },
  {
   "cell_type": "markdown",
   "metadata": {},
   "source": [
    "## Define a function to calculate the up and down factors"
   ]
  },
  {
   "cell_type": "code",
   "execution_count": 5,
   "metadata": {},
   "outputs": [],
   "source": [
    "def calc_ud(sigma, d_t):\n",
    "    \"\"\"\n",
    "    Function that calculates the factors in the trinomial model\n",
    "\n",
    "    Input: sigma -> volatility \n",
    "            d_t  -> time step size\n",
    "\n",
    "    Output: u -> upward movement\n",
    "            d -> downward movement\n",
    "\n",
    "    \"\"\"\n",
    "    # Add code here\n",
    "    a=math.exp(sigma*math.sqrt(2*d_t));\n",
    "    b=math.exp(-sigma*math.sqrt(2*d_t));\n",
    "    u=round(a,10);\n",
    "    d=round(b,10);\n",
    "    return u,d"
   ]
  },
  {
   "cell_type": "code",
   "execution_count": 6,
   "metadata": {},
   "outputs": [
    {
     "name": "stdout",
     "output_type": "stream",
     "text": [
      "u = 1.151910, d = 0.868123\n"
     ]
    }
   ],
   "source": [
    "# Calculate upward and downward movements\n",
    "# Add code here\n",
    "u, d = calc_ud(sigma, d_t)\n",
    "print('u = %.6f, d = %.6f' % (u, d))"
   ]
  },
  {
   "cell_type": "markdown",
   "metadata": {},
   "source": [
    "**Expected Output:**\n",
    "`u = 1.151910, d = 0.868123`"
   ]
  },
  {
   "cell_type": "markdown",
   "metadata": {},
   "source": [
    "## Define a function to calculate the probabilities in the trinomial model"
   ]
  },
  {
   "cell_type": "code",
   "execution_count": 7,
   "metadata": {},
   "outputs": [],
   "source": [
    "def calc_prob(r, sigma, d_t):\n",
    "    \"\"\"\n",
    "    Function that calculates the probabilities in the trinomial model\n",
    "\n",
    "    Input: r     -> interest rate\n",
    "           sigma -> volatility\n",
    "           d_t   -> time step size\n",
    "\n",
    "    Output: p_u -> probability for upward movement\n",
    "            p_d -> probability for downward movement\n",
    "            p_m -> probability for no change\n",
    "\n",
    "    \"\"\"\n",
    "    # Add code here\n",
    "    a=((math.exp(sigma*math.sqrt(d_t/2))-math.exp(r*(d_t/2)))/(math.exp(sigma*math.sqrt(d_t/2))-math.exp(-sigma*math.sqrt(d_t/2))))**2\n",
    "    b=((math.exp(r*(d_t/2))-math.exp(-sigma*math.sqrt(d_t/2)))/(math.exp(sigma*math.sqrt(d_t/2))-math.exp(-sigma*math.sqrt(d_t/2))))**2\n",
    "    c=1-b-a;\n",
    "    p_u=round(b,10);\n",
    "    p_d=round(a,10);\n",
    "    p_m=round(c,10);\n",
    "    return p_u,p_d,p_m"
   ]
  },
  {
   "cell_type": "code",
   "execution_count": 8,
   "metadata": {},
   "outputs": [
    {
     "name": "stdout",
     "output_type": "stream",
     "text": [
      "p_u = 0.277334, p_d = 0.224084, p_m = 0.498582\n"
     ]
    }
   ],
   "source": [
    "# Calculate probabilities\n",
    "# Add code here\n",
    "p_u, p_d, p_m = calc_prob(r, sigma, d_t)\n",
    "print('p_u = %.6f, p_d = %.6f, p_m = %.6f' % (p_u, p_d, p_m))"
   ]
  },
  {
   "cell_type": "markdown",
   "metadata": {},
   "source": [
    "**Expected Output:**\n",
    "`p_u = 0.277334, p_d = 0.224084, p_m = 0.498582`"
   ]
  },
  {
   "cell_type": "markdown",
   "metadata": {},
   "source": [
    "## Define a function to calculate the stock prices in the trinomial model"
   ]
  },
  {
   "cell_type": "code",
   "execution_count": 9,
   "metadata": {},
   "outputs": [],
   "source": [
    "def stock_price_trinom(S0, N, u, d):\n",
    "    \n",
    "    \"\"\"\n",
    "    Function that calculates the stock prices in the trinomial model\n",
    "    \n",
    "    Input: S0 -> Initial Stock Price\n",
    "           u  -> upward movement\n",
    "           d  -> downward movement\n",
    "           N  -> Number of time periods\n",
    "       \n",
    "    Output: S -> Upper triangular matrix of Stock prices with tirnomial model\n",
    "    \"\"\"\n",
    "    # Add code here\n",
    "    S = np.zeros((N*2+1,N+1))\n",
    "    S[0,0]=S0\n",
    "    for i in range(N*2+1):\n",
    "        for j in range(0,N+1):\n",
    "            if i==j:\n",
    "                S[j,i]=S0\n",
    "            #elif j-i>0:\n",
    "            #    S[i,j]=round((u**(j-i))*S0,8)\n",
    "            elif i-j<=j: # d=1/u\n",
    "            #i-j>0 and i-j<=j:\n",
    "                S[i,j]=round((d**(i-j))*S0,8)                         \n",
    "    return S"
   ]
  },
  {
   "cell_type": "code",
   "execution_count": 10,
   "metadata": {
    "scrolled": true
   },
   "outputs": [
    {
     "name": "stdout",
     "output_type": "stream",
     "text": [
      "Stock Prices\n",
      "[[100.         115.19099102 132.68964412 152.84651603 176.06541656]\n",
      " [  0.         100.         115.19099102 132.68964412 152.84651603]\n",
      " [  0.          86.81234454 100.         115.19099102 132.68964412]\n",
      " [  0.           0.          86.81234454 100.         115.19099102]\n",
      " [  0.           0.          75.36383164  86.81234454 100.        ]\n",
      " [  0.           0.           0.          75.36383164  86.81234454]\n",
      " [  0.           0.           0.          65.42510918  75.36383164]\n",
      " [  0.           0.           0.           0.          65.42510918]\n",
      " [  0.           0.           0.           0.          56.7970712 ]]\n"
     ]
    }
   ],
   "source": [
    "# Calculate stock prices\n",
    "# Add code here\n",
    "u= 1.15190991017\n",
    "d= 0.86812344539\n",
    "S=stock_price_trinom(S0, N, u, d)\n",
    "print(\"Stock Prices\")\n",
    "print(S)"
   ]
  },
  {
   "cell_type": "markdown",
   "metadata": {},
   "source": [
    "**Expected Output:**\n",
    "\n",
    "`Stock Prices`\n",
    "\n",
    "`[[100.         115.19099102 132.68964411 152.84651603 176.06541655]\n",
    " [  0.         100.         115.19099102 132.68964411 152.84651603]\n",
    " [  0.          86.81234454 100.         115.19099102 132.68964411]\n",
    " [  0.           0.          86.81234454 100.         115.19099102]\n",
    " [  0.           0.          75.36383164  86.81234454 100.        ]\n",
    " [  0.           0.           0.          75.36383164  86.81234454]\n",
    " [  0.           0.           0.          65.42510919  75.36383164]\n",
    " [  0.           0.           0.           0.          65.42510919]\n",
    " [  0.           0.           0.           0.          56.7970712 ]]`"
   ]
  },
  {
   "cell_type": "markdown",
   "metadata": {},
   "source": [
    "## Define a function to calculate the European option price using trinomial model"
   ]
  },
  {
   "cell_type": "code",
   "execution_count": 11,
   "metadata": {},
   "outputs": [],
   "source": [
    "def priceTriEuro(N, K, r, S, p_u, p_d, p_m, d_t):\n",
    "    \n",
    "    \"\"\"\n",
    "    Function that calculates the European option price using trinomial model\n",
    "    \n",
    "    Input: N     -> Number of time periods\n",
    "           K     -> Strike price\n",
    "           r     -> Interst rate\n",
    "           S     -> Upper triangular matrix\n",
    "           p_u   -> probability for upward movement\n",
    "           p_d   -> probability for downward movement\n",
    "           p_m   -> probability for no change\n",
    "           d_t   -> time step size\n",
    "       \n",
    "    Output: C -> European Call option \n",
    "            P -> European Put option \n",
    "    \"\"\"\n",
    "    # Add code here\n",
    "    #1) Creating empty matrices\n",
    "    C = np.zeros((2*N + 1, N + 1))\n",
    "    P = np.zeros((2*N + 1, N + 1))\n",
    "    #2) Computation of the payoff\n",
    "    for k in range(0, 2*N + 1):\n",
    "        if S[k][N]-K <=0: # last column\n",
    "            C[k][N]=0\n",
    "        else:\n",
    "            C[k][N] = S[k][N] - K\n",
    "        if K-S[k][N]<=0:\n",
    "            P[k][N]=0\n",
    "        else:\n",
    "            P[k][N] = K - S[k][N]\n",
    "    #3)Backward (value) iteration for options\n",
    "    for i in range(N-1, -1, -1):   \n",
    "        for j in range(0,  i*2 + 1):\n",
    "            C[j][i] = math.exp(-r*d_t) * (p_d*C[j+2][i+1] + p_m*C[j+1][i+1] + p_u*C[j][i+1])\n",
    "            P[j][i] = math.exp(-r*d_t) * (p_d*P[j+2][i+1] + p_m*P[j+1][i+1] + p_u*P[j][i+1])\n",
    "    return C, P"
   ]
  },
  {
   "cell_type": "code",
   "execution_count": 12,
   "metadata": {},
   "outputs": [
    {
     "name": "stdout",
     "output_type": "stream",
     "text": [
      "European Call\n",
      "[[10.20509942 20.0925775  35.15865291 54.08873598 76.06541656]\n",
      " [ 0.          8.49087322 18.30584773 33.93186407 52.84651603]\n",
      " [ 0.          2.35495086  6.54953395 16.43321097 32.68964412]\n",
      " [ 0.          0.          1.13955621  4.16064756 15.19099102]\n",
      " [ 0.          0.          0.          0.          0.        ]\n",
      " [ 0.          0.          0.          0.          0.        ]\n",
      " [ 0.          0.          0.          0.          0.        ]\n",
      " [ 0.          0.          0.          0.          0.        ]\n",
      " [ 0.          0.          0.          0.          0.        ]]\n",
      "\n",
      "\n",
      "European Put\n",
      "[[ 5.32804187  1.22102826  0.          0.          0.        ]\n",
      " [ 0.          4.810315    0.64584791  0.          0.        ]\n",
      " [ 0.         11.86204809  4.08052515  0.          0.        ]\n",
      " [ 0.          0.         11.85820287  2.91842761  0.        ]\n",
      " [ 0.          0.         22.16715956 11.94543551  0.        ]\n",
      " [ 0.          0.          0.         23.39394841 13.18765546]\n",
      " [ 0.          0.          0.         33.33267087 24.63616836]\n",
      " [ 0.          0.          0.          0.         34.57489082]\n",
      " [ 0.          0.          0.          0.         43.2029288 ]]\n"
     ]
    }
   ],
   "source": [
    "# Calculate European call and put values\n",
    "# Add code here\n",
    "p_u= 0.2773342477\n",
    "p_d= 0.2240835697\n",
    "p_m= 0.4985821826\n",
    "C, P = priceTriEuro(N, K, r, S, p_u, p_d, p_m, d_t)\n",
    "print('European Call')\n",
    "print(C)\n",
    "print(\"\\n\")\n",
    "print('European Put')\n",
    "print(P)"
   ]
  },
  {
   "cell_type": "markdown",
   "metadata": {},
   "source": [
    "**Expected Output:**\n",
    "\n",
    "`European Call`\n",
    "\n",
    "`[[10.20509942 20.0925775  35.15865291 54.08873598 76.06541655]\n",
    " [ 0.          8.49087322 18.30584772 33.93186407 52.84651603]\n",
    " [ 0.          2.35495086  6.54953395 16.43321097 32.68964411]\n",
    " [ 0.          0.          1.13955621  4.16064756 15.19099102]\n",
    " [ 0.          0.          0.          0.          0.        ]\n",
    " [ 0.          0.          0.          0.          0.        ]\n",
    " [ 0.          0.          0.          0.          0.        ]\n",
    " [ 0.          0.          0.          0.          0.        ]\n",
    " [ 0.          0.          0.          0.          0.        ]]`\n",
    "\n",
    "`European Put`\n",
    "\n",
    "`[[ 5.32804187  1.22102826  0.          0.          0.        ]\n",
    " [ 0.          4.810315    0.64584791  0.          0.        ]\n",
    " [ 0.         11.86204809  4.08052515  0.          0.        ]\n",
    " [ 0.          0.         11.85820287  2.91842761  0.        ]\n",
    " [ 0.          0.         22.16715956 11.94543551  0.        ]\n",
    " [ 0.          0.          0.         23.39394841 13.18765546]\n",
    " [ 0.          0.          0.         33.33267086 24.63616836]\n",
    " [ 0.          0.          0.          0.         34.57489081]\n",
    " [ 0.          0.          0.          0.         43.2029288 ]]`"
   ]
  },
  {
   "cell_type": "markdown",
   "metadata": {},
   "source": [
    "## Define a function to calculate the American option price using trinomial model"
   ]
  },
  {
   "cell_type": "code",
   "execution_count": 13,
   "metadata": {},
   "outputs": [],
   "source": [
    "def priceTriAmer(N, K, r, S, p_u, p_d, p_m, d_t):\n",
    "    \"\"\"\n",
    "    Function that calculates the American option price using trinomial model\n",
    "    \n",
    "    Input: N     -> Number of time periods\n",
    "           K     -> Strike price\n",
    "           r     -> Interst rate\n",
    "           S     -> Upper triangular matrix\n",
    "           p_u   -> probability for upward movement\n",
    "           p_d   -> probability for downward movement\n",
    "           p_m   -> probability for no change\n",
    "           d_t   -> time step size\n",
    "       \n",
    "    Output: C -> American Call option \n",
    "            P -> American Put option \n",
    "\n",
    "    \"\"\"\n",
    "    # Add code here\n",
    "    #1) Creating empty matrices\n",
    "    C = np.zeros((2*N + 1, N + 1))\n",
    "    P = np.zeros((2*N + 1, N + 1))\n",
    "\n",
    "    #2) Computation of the payoff\n",
    "    for k in range(0, 2*N + 1):\n",
    "        if S[k][N]-K <=0:\n",
    "            C[k][N]=0\n",
    "        else:\n",
    "            C[k][N] = S[k][N] - K\n",
    "        if K-S[k][N]<=0:\n",
    "            P[k][N]=0\n",
    "        else:\n",
    "            P[k][N] = K - S[k][N]\n",
    "    # Backward (value) iteration for options\n",
    "    for i in range(N-1, -1, -1):\n",
    "        for j in range(0,  i*2 + 1):\n",
    "            back_C = math.exp(-r*d_t) * (p_d*C[j+2][i+1] + p_m*C[j+1][i+1] + p_u*C[j][i+1])\n",
    "            C[j][i] = max(S[j][i] - K, back_C)\n",
    "            back_P = math.exp(-r*d_t) * (p_d*P[j+2][i+1] + p_m*P[j+1][i+1] + p_u*P[j][i+1])\n",
    "            P[j][i] = max(K - S[j][i], back_P)\n",
    "    return C, P"
   ]
  },
  {
   "cell_type": "code",
   "execution_count": 14,
   "metadata": {},
   "outputs": [
    {
     "name": "stdout",
     "output_type": "stream",
     "text": [
      "American Call\n",
      "[[10.20509942 20.0925775  35.15865291 54.08873598 76.06541656]\n",
      " [ 0.          8.49087322 18.30584773 33.93186407 52.84651603]\n",
      " [ 0.          2.35495086  6.54953395 16.43321097 32.68964412]\n",
      " [ 0.          0.          1.13955621  4.16064756 15.19099102]\n",
      " [ 0.          0.          0.          0.          0.        ]\n",
      " [ 0.          0.          0.          0.          0.        ]\n",
      " [ 0.          0.          0.          0.          0.        ]\n",
      " [ 0.          0.          0.          0.          0.        ]\n",
      " [ 0.          0.          0.          0.          0.        ]]\n",
      "\n",
      "\n",
      "American Put\n",
      "[[ 5.84957502  1.28186433  0.          0.          0.        ]\n",
      " [ 0.          5.23988204  0.64584791  0.          0.        ]\n",
      " [ 0.         13.18765546  4.35542837  0.          0.        ]\n",
      " [ 0.          0.         13.18765546  2.91842761  0.        ]\n",
      " [ 0.          0.         24.63616836 13.18765546  0.        ]\n",
      " [ 0.          0.          0.         24.63616836 13.18765546]\n",
      " [ 0.          0.          0.         34.57489082 24.63616836]\n",
      " [ 0.          0.          0.          0.         34.57489082]\n",
      " [ 0.          0.          0.          0.         43.2029288 ]]\n"
     ]
    }
   ],
   "source": [
    "# Calculate American call and put values\n",
    "# Add code here\n",
    "C, P = priceTriAmer(N, K, r, S, p_u, p_d, p_m, d_t)\n",
    "print('American Call')\n",
    "print(C)\n",
    "print('\\n')\n",
    "print('American Put')\n",
    "print(P)"
   ]
  },
  {
   "cell_type": "markdown",
   "metadata": {},
   "source": [
    "**Expected Output:**\n",
    "\n",
    "`American Call`\n",
    "\n",
    "`[[10.20509942 20.0925775  35.15865291 54.08873598 76.06541655]\n",
    " [ 0.          8.49087322 18.30584772 33.93186407 52.84651603]\n",
    " [ 0.          2.35495086  6.54953395 16.43321097 32.68964411]\n",
    " [ 0.          0.          1.13955621  4.16064756 15.19099102]\n",
    " [ 0.          0.          0.          0.          0.        ]\n",
    " [ 0.          0.          0.          0.          0.        ]\n",
    " [ 0.          0.          0.          0.          0.        ]\n",
    " [ 0.          0.          0.          0.          0.        ]\n",
    " [ 0.          0.          0.          0.          0.        ]]`\n",
    "\n",
    "`American Put`\n",
    "\n",
    "`[[ 5.84957502  1.28186433  0.          0.          0.        ]\n",
    " [ 0.          5.23988204  0.64584791  0.          0.        ]\n",
    " [ 0.         13.18765546  4.35542837  0.          0.        ]\n",
    " [ 0.          0.         13.18765546  2.91842761  0.        ]\n",
    " [ 0.          0.         24.63616836 13.18765546  0.        ]\n",
    " [ 0.          0.          0.         24.63616836 13.18765546]\n",
    " [ 0.          0.          0.         34.57489081 24.63616836]\n",
    " [ 0.          0.          0.          0.         34.57489081]\n",
    " [ 0.          0.          0.          0.         43.2029288 ]]`"
   ]
  },
  {
   "cell_type": "markdown",
   "metadata": {},
   "source": [
    "## Comparing European and American option values calculated with Trinomial Model from the exact Solution"
   ]
  },
  {
   "cell_type": "code",
   "execution_count": 15,
   "metadata": {},
   "outputs": [
    {
     "name": "stdout",
     "output_type": "stream",
     "text": [
      "   N    E_P_ex    E_P_app    err_E_P        A_P_ex     A_P_app    err_A_P\n",
      "-------------------------------------------------------------------------------\n",
      "   4   5.573500   5.328042   2.454581e-01   6.062400   5.849575   2.128250e-01\n",
      "  16   5.573500   5.511288   6.221195e-02   6.062400   6.031125   3.127492e-02\n",
      "  64   5.573500   5.557919   1.558139e-02   6.062400   6.077022   1.462235e-02\n",
      " 256   5.573500   5.569621   3.878723e-03   6.062400   6.087340   2.493992e-02\n",
      " 512   5.573500   5.571573   1.926581e-03   6.062400   6.088906   2.650645e-02\n",
      "1024   5.573500   5.572550   9.503480e-04   6.062400   6.089652   2.725172e-02\n"
     ]
    }
   ],
   "source": [
    "# Calculate European and American put values for different N and compare to exact solution\n",
    "# Exact Values\n",
    "E_P_ex = 5.5735\n",
    "A_P_ex = 6.0624\n",
    "N = [4, 16, 64, 256, 512, 1024]\n",
    "# Add code here\n",
    "print('   N    E_P_ex    E_P_app    err_E_P        A_P_ex     A_P_app    err_A_P')\n",
    "print('-------------------------------------------------------------------------------')\n",
    "for i in N:\n",
    "    d_t = T / i\n",
    "    u, d = calc_ud(sigma, d_t)\n",
    "    p_u, p_d, p_m = calc_prob(r, sigma, d_t)\n",
    "    S = stock_price_trinom(S0, i, u, d)\n",
    "    Const, E_P_app = priceTriEuro(i, K, r, S, p_u, p_d, p_m, d_t)\n",
    "    Const, A_P_app = priceTriAmer(i, K, r, S, p_u, p_d, p_m, d_t)\n",
    "    err_E_P = abs(E_P_ex - E_P_app[0][0])\n",
    "    err_A_P = abs(A_P_ex - A_P_app[0][0])\n",
    "    print('%4.d   %2.6f   %2.6f   %e   %2.6f   %2.6f   %e' % (i, E_P_ex, E_P_app[0][0], err_E_P, A_P_ex, A_P_app[0][0], err_A_P))"
   ]
  },
  {
   "cell_type": "markdown",
   "metadata": {},
   "source": [
    "**Expected Output:**\n",
    "![title](trinom_tree.png)"
   ]
  },
  {
   "cell_type": "code",
   "execution_count": 65,
   "metadata": {},
   "outputs": [],
   "source": [
    "# feel free to use this cell for additional tests"
   ]
  },
  {
   "cell_type": "code",
   "execution_count": null,
   "metadata": {},
   "outputs": [],
   "source": [
    "# feel free to use this cell for additional tests"
   ]
  },
  {
   "cell_type": "code",
   "execution_count": 17,
   "metadata": {},
   "outputs": [],
   "source": [
    "# feel free to use this cell for additional tests"
   ]
  },
  {
   "cell_type": "code",
   "execution_count": 18,
   "metadata": {},
   "outputs": [],
   "source": [
    "# feel free to use this cell for additional tests"
   ]
  },
  {
   "cell_type": "code",
   "execution_count": 19,
   "metadata": {},
   "outputs": [],
   "source": [
    "# feel free to use this cell for additional tests"
   ]
  },
  {
   "cell_type": "code",
   "execution_count": null,
   "metadata": {},
   "outputs": [],
   "source": []
  }
 ],
 "metadata": {
  "kernelspec": {
   "display_name": "Python 3",
   "language": "python",
   "name": "python3"
  },
  "language_info": {
   "codemirror_mode": {
    "name": "ipython",
    "version": 3
   },
   "file_extension": ".py",
   "mimetype": "text/x-python",
   "name": "python",
   "nbconvert_exporter": "python",
   "pygments_lexer": "ipython3",
   "version": "3.8.3"
  }
 },
 "nbformat": 4,
 "nbformat_minor": 2
}
